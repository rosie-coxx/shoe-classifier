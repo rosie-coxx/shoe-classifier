{
 "cells": [
  {
   "cell_type": "code",
   "execution_count": null,
   "metadata": {},
   "outputs": [],
   "source": [
    "import os\n",
    "import numpy as np\n",
    "from PIL import Image\n",
    "from skimage.metrics import structural_similarity as ssim\n",
    "import pandas as pd\n",
    "from IPython.display import display, HTML\n",
    "from ipywidgets import widgets\n",
    "\n",
    "# Helper function to calculate similarity\n",
    "def calculate_similarity(image1_path, image2_path):\n",
    "    image1 = Image.open(image1_path).convert('L')\n",
    "    image2 = Image.open(image2_path).convert('L')\n",
    "\n",
    "    image1 = image1.resize((256, 256))\n",
    "    image2 = image2.resize((256, 256))\n",
    "\n",
    "    image1_np = np.array(image1)\n",
    "    image2_np = np.array(image2)\n",
    "\n",
    "    similarity_index, _ = ssim(image1_np, image2_np, full=True)\n",
    "    return similarity_index\n"
   ]
  },
  {
   "cell_type": "code",
   "execution_count": null,
   "metadata": {},
   "outputs": [],
   "source": [
    "# Widget to upload an image\n",
    "upload_widget = widgets.FileUpload(accept='image/*', multiple=False)\n",
    "display(upload_widget)"
   ]
  },
  {
   "cell_type": "code",
   "execution_count": null,
   "metadata": {},
   "outputs": [],
   "source": [
    "def find_sole_images(root_dir):\n",
    "    sole_images = []\n",
    "    valid_extensions = {'.png', '.jpg', '.jpeg', '.jfif', '.bmp', '.gif', '.tiff'}\n",
    "    for subdir, _, files in os.walk(root_dir):\n",
    "        for file in files:\n",
    "            file_name, file_extension = os.path.splitext(file)\n",
    "            if file_name.lower() == 'sole' and file_extension.lower() in valid_extensions:\n",
    "                sole_images.append(os.path.join(subdir, file))\n",
    "    return sole_images\n"
   ]
  },
  {
   "cell_type": "code",
   "execution_count": null,
   "metadata": {},
   "outputs": [],
   "source": [
    "def compare_uploaded_image(upload_widget, root_dir):\n",
    "    if upload_widget.value:\n",
    "        uploaded_image = list(upload_widget.value.values())[0]['content']\n",
    "        uploaded_image_path = '/mnt/data/uploaded_image.png'\n",
    "        \n",
    "        with open(uploaded_image_path, 'wb') as f:\n",
    "            f.write(uploaded_image)\n",
    "        \n",
    "        sole_images = find_sole_images(root_dir)\n",
    "        similarities = []\n",
    "        \n",
    "        for sole_image in sole_images:\n",
    "            similarity = calculate_similarity(uploaded_image_path, sole_image)\n",
    "            # Add the similarity score and the sole image path to the results  \n",
    "            similarities.append((os.path.relpath(sole_image, root_dir), similarity))\n",
    "        \n",
    "        # Sort the results by similarity in descending order - the most likely\n",
    "        similarities.sort(key=lambda x: x[1], reverse=True)\n",
    "        \n",
    "        # Create a DataFrame to store the results\n",
    "        df = pd.DataFrame(similarities, columns=['File Path', 'Similarity'])\n",
    "        \n",
    "        # Save the results to a CSV file\n",
    "        csv_path = '/mnt/data/similarity_results.csv'\n",
    "        df.to_csv(csv_path, index=False)\n",
    "        \n",
    "        # Display the results as a table\n",
    "        display(HTML(df.to_html(index=False)))\n",
    "        \n",
    "        print(f'Results saved to {csv_path}')\n",
    "    else:\n",
    "        print(\"Please upload an image first.\")\n"
   ]
  },
  {
   "cell_type": "code",
   "execution_count": null,
   "metadata": {},
   "outputs": [],
   "source": [
    "root_dir = '/mnt/data/Shoe'  # Need to check this is the right file path \n",
    "\n",
    "compare_button = widgets.Button(description=\"Compare Images\")\n",
    "display(compare_button)\n",
    "\n",
    "def on_compare_button_clicked(b):\n",
    "    compare_uploaded_image(upload_widget, root_dir)\n",
    "\n",
    "compare_button.on_click(on_compare_button_clicked)\n"
   ]
  }
 ],
 "metadata": {
  "language_info": {
   "name": "python"
  }
 },
 "nbformat": 4,
 "nbformat_minor": 2
}
